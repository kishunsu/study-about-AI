{
 "cells": [
  {
   "cell_type": "code",
   "execution_count": 1,
   "metadata": {},
   "outputs": [],
   "source": [
    "%matplotlib inline\n",
    "from __future__ import print_function\n",
    "\n",
    "try:\n",
    "    xrange\n",
    "except NameError:\n",
    "    xrange = range\n",
    "\n",
    "import pandas as pd\n",
    "import numpy as np\n",
    "import matplotlib.pyplot as plt\n",
    "import scipy.spatial as sp\n",
    "import scipy.sparse as sparse\n",
    "from sklearn.decomposition import NMF, TruncatedSVD"
   ]
  },
  {
   "cell_type": "markdown",
   "metadata": {},
   "source": [
    "<h2>レコメンデーション</h2>\n",
    "\n",
    "レコメンデーションの最も一般的なアルゴリズムである協調フィルタリングを紹介します。\n",
    "まずは簡単なダミーデータで説明していきます。"
   ]
  },
  {
   "cell_type": "code",
   "execution_count": 2,
   "metadata": {},
   "outputs": [],
   "source": [
    "rating_matrix = np.array([[2, 5, 1, 1, 0, 1, 2, 4],\n",
    "                          [1, 5, 2, 1, 4, 0, 0, 3],\n",
    "                          [0, 3, 3, 0, 1, 1, 1, 1],\n",
    "                          [5, 2, 2, 3, 1, 0, 0, 4],\n",
    "                          [5, 3, 3, 4, 1, 0, 0, 5],\n",
    "                          [1, 4, 3, 2, 5, 1, 0, 1],\n",
    "                          [0, 0, 0, 0, 0, 0, 0, 2],\n",
    "                          [0, 4, 0, 0, 0, 0, 0, 0]])"
   ]
  },
  {
   "cell_type": "markdown",
   "metadata": {},
   "source": [
    "1行目のユーザーと似ているユーザーを探しましょう。"
   ]
  },
  {
   "cell_type": "code",
   "execution_count": 3,
   "metadata": {},
   "outputs": [
    {
     "data": {
      "text/plain": [
       "array([1.        , 0.77831178, 0.73914049, 0.7402121 , 0.78215389,\n",
       "       0.58777469, 0.5547002 , 0.69337525])"
      ]
     },
     "execution_count": 3,
     "metadata": {},
     "output_type": "execute_result"
    }
   ],
   "source": [
    "user_similarity = []\n",
    "for i in range(len(rating_matrix)):\n",
    "    # cosine類似度　= 1 - cosine距離\n",
    "    sim = 1 - sp.distance.cosine(rating_matrix[0], rating_matrix[i])\n",
    "    user_similarity.append(sim)\n",
    "    \n",
    "user_similarity = np.array(user_similarity)\n",
    "user_similarity"
   ]
  },
  {
   "cell_type": "markdown",
   "metadata": {},
   "source": [
    "topNで指定した類似度の高いユーザーを探しましょう。"
   ]
  },
  {
   "cell_type": "code",
   "execution_count": 4,
   "metadata": {},
   "outputs": [
    {
     "data": {
      "text/plain": [
       "array([[5, 3, 3, 4, 1, 0, 0, 5],\n",
       "       [1, 5, 2, 1, 4, 0, 0, 3],\n",
       "       [5, 2, 2, 3, 1, 0, 0, 4],\n",
       "       [0, 3, 3, 0, 1, 1, 1, 1]])"
      ]
     },
     "execution_count": 4,
     "metadata": {},
     "output_type": "execute_result"
    }
   ],
   "source": [
    "topN = 4\n",
    "\n",
    "# userのインデックス（行番号）をNumpy Arrayで作っておきます\n",
    "user_idx = np.array(range(0, len(rating_matrix)))\n",
    "\n",
    "# 類似度の低い順にソートした結果のインデックスを用意して、降順に並び替えます\n",
    "arg_sort = np.argsort(user_similarity)\n",
    "arg_sort = arg_sort[::-1]\n",
    "\n",
    "# 自分自身を除いた類似度の高い4人を選びます\n",
    "selected_idx = arg_sort[1:topN+1]\n",
    "\n",
    "selected_user_similarity = user_similarity[selected_idx]\n",
    "selected_rating_matrix = rating_matrix[selected_idx]\n",
    "selected_rating_matrix"
   ]
  },
  {
   "cell_type": "markdown",
   "metadata": {},
   "source": [
    "どの商品をオススメするか？ここでは平均類似度を使ってみましょう。"
   ]
  },
  {
   "cell_type": "code",
   "execution_count": 5,
   "metadata": {},
   "outputs": [],
   "source": [
    "avg_score = []\n",
    "for col_idx in range(selected_rating_matrix.shape[1]):\n",
    "    weight_score = \\\n",
    "     sum(selected_rating_matrix[:, col_idx] * selected_user_similarity)\n",
    "    similarity_sum = \\\n",
    "     sum(selected_user_similarity[selected_user_similarity > 0])\n",
    "    avg_score.append(weight_score / similarity_sum)"
   ]
  },
  {
   "cell_type": "code",
   "execution_count": 6,
   "metadata": {},
   "outputs": [
    {
     "name": "stdout",
     "output_type": "stream",
     "text": [
      "0th item   2.76008004027828\n",
      "1th item   3.2685724591474137\n",
      "2th item   2.500455702090564\n",
      "3th item   2.015766437135928\n",
      "4th item   1.7681167570568497\n",
      "5th item   0.24315285672918407\n",
      "6th item   0.24315285672918407\n",
      "7th item   3.271805356154878\n"
     ]
    }
   ],
   "source": [
    "for i, v in enumerate(avg_score):\n",
    "    print(str(i) + 'th item  ', v)"
   ]
  },
  {
   "cell_type": "markdown",
   "metadata": {},
   "source": [
    "上記だと具体的な商品名がないので、わかりにくいですよね（でも雰囲気は伝わりましたか？）。もう少し具体的なデータでやってみましょう。"
   ]
  },
  {
   "cell_type": "markdown",
   "metadata": {},
   "source": [
    "<h2>某ニュースアプリのテーマのフォロー状況を模したデータで協調フィルタリング</h2>\n",
    "\n",
    "datasetフォルダにあるuser_topic_follow_dummy.csvを読み込みましょう。"
   ]
  },
  {
   "cell_type": "code",
   "execution_count": 7,
   "metadata": {},
   "outputs": [
    {
     "name": "stdout",
     "output_type": "stream",
     "text": [
      "(339323, 2)\n"
     ]
    },
    {
     "data": {
      "text/html": [
       "<div>\n",
       "<style scoped>\n",
       "    .dataframe tbody tr th:only-of-type {\n",
       "        vertical-align: middle;\n",
       "    }\n",
       "\n",
       "    .dataframe tbody tr th {\n",
       "        vertical-align: top;\n",
       "    }\n",
       "\n",
       "    .dataframe thead th {\n",
       "        text-align: right;\n",
       "    }\n",
       "</style>\n",
       "<table border=\"1\" class=\"dataframe\">\n",
       "  <thead>\n",
       "    <tr style=\"text-align: right;\">\n",
       "      <th></th>\n",
       "      <th>user_id</th>\n",
       "      <th>topic_name</th>\n",
       "    </tr>\n",
       "  </thead>\n",
       "  <tbody>\n",
       "    <tr>\n",
       "      <th>0</th>\n",
       "      <td>25126</td>\n",
       "      <td>(株)アップル</td>\n",
       "    </tr>\n",
       "    <tr>\n",
       "      <th>1</th>\n",
       "      <td>26285</td>\n",
       "      <td>(株)電通</td>\n",
       "    </tr>\n",
       "    <tr>\n",
       "      <th>2</th>\n",
       "      <td>15409</td>\n",
       "      <td>.NET_Framework</td>\n",
       "    </tr>\n",
       "    <tr>\n",
       "      <th>3</th>\n",
       "      <td>30466</td>\n",
       "      <td>.NET_Framework</td>\n",
       "    </tr>\n",
       "    <tr>\n",
       "      <th>4</th>\n",
       "      <td>30878</td>\n",
       "      <td>.NET_Framework</td>\n",
       "    </tr>\n",
       "  </tbody>\n",
       "</table>\n",
       "</div>"
      ],
      "text/plain": [
       "   user_id      topic_name\n",
       "0    25126         (株)アップル\n",
       "1    26285           (株)電通\n",
       "2    15409  .NET_Framework\n",
       "3    30466  .NET_Framework\n",
       "4    30878  .NET_Framework"
      ]
     },
     "execution_count": 7,
     "metadata": {},
     "output_type": "execute_result"
    }
   ],
   "source": [
    "data = pd.read_csv('user_topic_follow_dummy.csv', encoding='utf8')\n",
    "data.drop_duplicates(keep='last', inplace=True)\n",
    "print(data.shape)\n",
    "data.head()"
   ]
  },
  {
   "cell_type": "markdown",
   "metadata": {},
   "source": [
    "この後、Pandasのpivotを使って、User x Itemの行列を作りますので、ratingの列を新たに作成し、１.0を格納しておきます。"
   ]
  },
  {
   "cell_type": "code",
   "execution_count": 8,
   "metadata": {},
   "outputs": [],
   "source": [
    "data['rating'] = 1.0"
   ]
  },
  {
   "cell_type": "markdown",
   "metadata": {},
   "source": [
    "実際に User x Itemの行列を作成します。"
   ]
  },
  {
   "cell_type": "code",
   "execution_count": 9,
   "metadata": {},
   "outputs": [],
   "source": [
    "rating_matrix = \\\n",
    " data.pivot(index='user_id', columns='topic_name', values='rating')\n",
    "rating_matrix.fillna(0, inplace=True)"
   ]
  },
  {
   "cell_type": "code",
   "execution_count": 11,
   "metadata": {},
   "outputs": [
    {
     "name": "stdout",
     "output_type": "stream",
     "text": [
      "14167\n"
     ]
    }
   ],
   "source": [
    "topic_list = np.array(rating_matrix.columns)\n",
    "user_list = np.array(rating_matrix.index)\n",
    "\n",
    "print(len(topic_list))"
   ]
  },
  {
   "cell_type": "code",
   "execution_count": 12,
   "metadata": {},
   "outputs": [
    {
     "data": {
      "text/plain": [
       "array([[0., 0., 0., ..., 0., 0., 0.],\n",
       "       [0., 0., 0., ..., 0., 0., 0.],\n",
       "       [0., 0., 0., ..., 0., 0., 0.],\n",
       "       ...,\n",
       "       [0., 0., 0., ..., 0., 0., 0.],\n",
       "       [0., 0., 0., ..., 0., 0., 0.],\n",
       "       [0., 0., 0., ..., 0., 0., 0.]])"
      ]
     },
     "execution_count": 12,
     "metadata": {},
     "output_type": "execute_result"
    }
   ],
   "source": [
    "rating_matrix_ar = np.array(rating_matrix)\n",
    "rating_matrix_ar"
   ]
  },
  {
   "cell_type": "markdown",
   "metadata": {},
   "source": [
    "さて、user_id=1の方に対するオススメトピックを探してみましょう。"
   ]
  },
  {
   "cell_type": "code",
   "execution_count": 13,
   "metadata": {},
   "outputs": [
    {
     "data": {
      "text/plain": [
       "40826     MacBook\n",
       "187716        一人旅\n",
       "211960        吉祥寺\n",
       "287441       築地市場\n",
       "327071        離乳食\n",
       "Name: topic_name, dtype: object"
      ]
     },
     "execution_count": 13,
     "metadata": {},
     "output_type": "execute_result"
    }
   ],
   "source": [
    "already_followed_topic = \\\n",
    " np.array(data[data['user_id'] == user_list[0]]['topic_name'])\n",
    "#data['user_id'] == user_list[0]\n",
    "user_list[0]\n",
    "data['user_id']\n",
    "data[data['user_id'] == user_list[0]]['topic_name']\n",
    "#print(already_followed_topic)\n",
    "#data[data['user_id'] == user_list[0]]"
   ]
  },
  {
   "cell_type": "markdown",
   "metadata": {},
   "source": [
    "実際にユーザーごとの類似度を計算しましょう。"
   ]
  },
  {
   "cell_type": "code",
   "execution_count": 14,
   "metadata": {},
   "outputs": [],
   "source": [
    "def get_cosine_similarity(x, y):\n",
    "    return 1- sp.distance.cosine(x, y)\n",
    "\n",
    "def get_jaccard_similarity(x, y):\n",
    "    return 1 - sp.distance.jaccard(x, y)\n",
    "\n",
    "user_similarity = []\n",
    "target_user_row = rating_matrix_ar[0]\n",
    "for row in rating_matrix_ar:\n",
    "    sim = get_jaccard_similarity(target_user_row, row)\n",
    "    user_similarity.append(sim)\n",
    "user_similarity = np.array(user_similarity)"
   ]
  },
  {
   "cell_type": "code",
   "execution_count": 16,
   "metadata": {},
   "outputs": [
    {
     "data": {
      "text/plain": [
       "array([14665, 17661, 17660, ...,  1706,    65,     0])"
      ]
     },
     "execution_count": 16,
     "metadata": {},
     "output_type": "execute_result"
    }
   ],
   "source": [
    "user_similarity.argsort()\n",
    "\n"
   ]
  },
  {
   "cell_type": "markdown",
   "metadata": {},
   "source": [
    "類似度の高いユーザーTopNを抽出します。"
   ]
  },
  {
   "cell_type": "code",
   "execution_count": 17,
   "metadata": {},
   "outputs": [
    {
     "name": "stdout",
     "output_type": "stream",
     "text": [
      "[   65  1706   253 16923 26524   449 26257 28951 23694     6   392 29142\n",
      " 18799 22879 25094 19422   112   425 19431 25750]\n"
     ]
    }
   ],
   "source": [
    "topN = 20\n",
    "idx = user_similarity.argsort()[::-1][1:topN+1]  #numpyを逆順に並べる\n",
    "print(idx)\n",
    "selected_user_similarity = user_similarity[idx]\n",
    "selected_rating = rating_matrix_ar[idx]"
   ]
  },
  {
   "cell_type": "markdown",
   "metadata": {},
   "source": [
    "平均類似度を計算しましょう。"
   ]
  },
  {
   "cell_type": "code",
   "execution_count": 18,
   "metadata": {},
   "outputs": [],
   "source": [
    "avg_score = []\n",
    "for col_idx in range(selected_rating.shape[1]):\n",
    "    weight_score = sum(selected_rating[:, col_idx] * selected_user_similarity)\n",
    "    similarity_sum = \\\n",
    "     sum(selected_user_similarity[selected_user_similarity > 0])\n",
    "    avg_score.append(weight_score / similarity_sum)\n",
    "avg_score = np.array(avg_score)"
   ]
  },
  {
   "cell_type": "markdown",
   "metadata": {},
   "source": [
    "そして、平均類似度の高い上位10テーマをオススメとして表示させます。"
   ]
  },
  {
   "cell_type": "code",
   "execution_count": 19,
   "metadata": {},
   "outputs": [
    {
     "name": "stdout",
     "output_type": "stream",
     "text": [
      "インテリジェント・デザイン\n",
      "映画\n",
      "音楽\n",
      "デート\n",
      "副業\n"
     ]
    }
   ],
   "source": [
    "recommend_num = 5\n",
    "counter = 0\n",
    "for recommended_topic in topic_list[avg_score.argsort()[::-1]]:\n",
    "    if recommended_topic not in already_followed_topic:\n",
    "        print(recommended_topic)\n",
    "        counter += 1\n",
    "        if recommend_num <= counter:\n",
    "            break"
   ]
  },
  {
   "cell_type": "markdown",
   "metadata": {},
   "source": [
    "どうでしょうか？これを気に入ってくれそうですか？"
   ]
  },
  {
   "cell_type": "markdown",
   "metadata": {},
   "source": [
    "<h2>次元削減を行ってみましょう</h2>\n",
    "\n",
    "ここでは、以下2つの手法を紹介します。\n",
    "* SVD\n",
    "* Non Negative Matrix Factorization"
   ]
  },
  {
   "cell_type": "markdown",
   "metadata": {},
   "source": [
    "<h3>特異値分解(Singular Value Decomposition)による次元圧縮を使ったレコメンデーション</h3>"
   ]
  },
  {
   "cell_type": "markdown",
   "metadata": {},
   "source": [
    "まず、SVDを初期化します。"
   ]
  },
  {
   "cell_type": "code",
   "execution_count": 20,
   "metadata": {},
   "outputs": [],
   "source": [
    "svd = TruncatedSVD(n_components=20)"
   ]
  },
  {
   "cell_type": "markdown",
   "metadata": {},
   "source": [
    "Scipy Sparse行列にしておきます。"
   ]
  },
  {
   "cell_type": "code",
   "execution_count": 22,
   "metadata": {},
   "outputs": [],
   "source": [
    "rating_matrix_sparse = sparse.lil_matrix(rating_matrix_ar)"
   ]
  },
  {
   "cell_type": "markdown",
   "metadata": {},
   "source": [
    "データを適用させます。"
   ]
  },
  {
   "cell_type": "code",
   "execution_count": 23,
   "metadata": {},
   "outputs": [],
   "source": [
    "rating_matrix_svd = svd.fit_transform(rating_matrix_sparse)"
   ]
  },
  {
   "cell_type": "markdown",
   "metadata": {},
   "source": [
    "あとは、前回と同じです。似ているユーザーを探して平均類似度の高いトピックをお勧めしましょう。"
   ]
  },
  {
   "cell_type": "code",
   "execution_count": 24,
   "metadata": {},
   "outputs": [],
   "source": [
    "user_similarity = []\n",
    "target_user_svd = rating_matrix_svd[0]\n",
    "for row in rating_matrix_svd:\n",
    "    sim = get_cosine_similarity(target_user_svd, row)\n",
    "    user_similarity.append(sim)\n",
    "user_similarity = np.array(user_similarity)"
   ]
  },
  {
   "cell_type": "code",
   "execution_count": 25,
   "metadata": {},
   "outputs": [
    {
     "name": "stdout",
     "output_type": "stream",
     "text": [
      "インテリジェント・デザイン\n",
      "ロードバイク\n",
      "ゲーム\n",
      "Twitter\n",
      "PlayStation_4\n"
     ]
    }
   ],
   "source": [
    "topN = 20\n",
    "idx = user_similarity.argsort()[::-1][1:topN+1]\n",
    "selected_user_similarity = user_similarity[idx]\n",
    "selected_rating = rating_matrix_ar[idx]\n",
    "\n",
    "avg_score = []\n",
    "for col_idx in range(selected_rating.shape[1]):\n",
    "    weight_score = sum(selected_rating[:, col_idx] * selected_user_similarity)\n",
    "    similarity_sum = \\\n",
    "     sum(selected_user_similarity[selected_user_similarity > 0])\n",
    "    avg_score.append(weight_score / similarity_sum)\n",
    "avg_score = np.array(avg_score)\n",
    "\n",
    "recommend_num = 5\n",
    "counter = 0\n",
    "for recommended_topic in topic_list[avg_score.argsort()[::-1]]:\n",
    "    if recommended_topic not in already_followed_topic:\n",
    "        print(recommended_topic)\n",
    "        counter += 1\n",
    "        if recommend_num <= counter:\n",
    "            break"
   ]
  },
  {
   "cell_type": "markdown",
   "metadata": {},
   "source": [
    "<h3>非負値行列分解(Non Negative Matrix Factorization)による次元圧縮を使ったレコメンデーション</h3>"
   ]
  },
  {
   "cell_type": "code",
   "execution_count": 26,
   "metadata": {},
   "outputs": [],
   "source": [
    "nmf = NMF(n_components=10, random_state=1234, init='random')"
   ]
  },
  {
   "cell_type": "code",
   "execution_count": 32,
   "metadata": {},
   "outputs": [
    {
     "name": "stdout",
     "output_type": "stream",
     "text": [
      "[795.68833363 594.79031028 782.03194658 382.3531247  274.76025725\n",
      " 518.19287067 369.28810791 328.53441915 357.79557066 785.70513326]\n"
     ]
    }
   ],
   "source": [
    "rating_matrix_nmf = nmf.fit_transform(rating_matrix_sparse)\n",
    "print(sum(rating_matrix_nmf))"
   ]
  },
  {
   "cell_type": "code",
   "execution_count": 37,
   "metadata": {},
   "outputs": [
    {
     "name": "stdout",
     "output_type": "stream",
     "text": [
      "[0.         0.         0.         0.01719238 0.01925964 0.00160721\n",
      " 0.         0.         0.         0.        ]\n",
      "[1.00000000e+00 8.33114979e-04 8.60493757e-01 ... 3.67627478e-02\n",
      " 7.18395858e-01 1.57075106e-01]\n",
      "0.4652818650770285\n"
     ]
    }
   ],
   "source": [
    "user_similarity = []\n",
    "target_user_nmf = rating_matrix_nmf[0]\n",
    "print(target_user_nmf)\n",
    "for row in rating_matrix_nmf:\n",
    "    if sum(row) == 0:\n",
    "        sim = 0                 #sum(row)==0のものはここではないが、エラー処理として記載している\n",
    "        user_similarity.append(sim)\n",
    "    else:\n",
    "        sim = get_cosine_similarity(target_user_nmf, row)#rowが0になるとエラーの原因となる可能性がある。そのため前のif文でエラー処理を行っている。\n",
    "        user_similarity.append(sim)\n",
    "        \n",
    "user_similarity = np.array(user_similarity)\n",
    "print(user_similarity)\n",
    "\n",
    "#test=get_cosine_similarity(target_user_nmf, [0])\n",
    "#print(test)"
   ]
  },
  {
   "cell_type": "code",
   "execution_count": 33,
   "metadata": {},
   "outputs": [
    {
     "name": "stdout",
     "output_type": "stream",
     "text": [
      "転職\n",
      "でんぱ組.inc\n",
      "インテリジェント・デザイン\n",
      "クラフトビール\n",
      "Twitter\n"
     ]
    }
   ],
   "source": [
    "topN = 20\n",
    "idx = user_similarity.argsort()[::-1][1:topN+1]\n",
    "selected_user_similarity = user_similarity[idx]\n",
    "selected_rating = rating_matrix_ar[idx]\n",
    "\n",
    "avg_score = []\n",
    "for col_idx in range(selected_rating.shape[1]):\n",
    "    weight_score = sum(selected_rating[:, col_idx] * selected_user_similarity)\n",
    "    similarity_sum = \\\n",
    "     sum(selected_user_similarity[selected_user_similarity > 0])\n",
    "    avg_score.append(weight_score / similarity_sum)\n",
    "avg_score = np.array(avg_score)\n",
    "\n",
    "recommend_num = 5\n",
    "counter = 0\n",
    "for recommended_topic in topic_list[avg_score.argsort()[::-1]]:\n",
    "    if recommended_topic not in already_followed_topic:\n",
    "        print(recommended_topic)\n",
    "        counter += 1\n",
    "        if recommend_num <= counter:\n",
    "            break"
   ]
  },
  {
   "cell_type": "code",
   "execution_count": null,
   "metadata": {
    "collapsed": true
   },
   "outputs": [],
   "source": []
  }
 ],
 "metadata": {
  "anaconda-cloud": {},
  "kernelspec": {
   "display_name": "Python 3",
   "language": "python",
   "name": "python3"
  },
  "language_info": {
   "codemirror_mode": {
    "name": "ipython",
    "version": 3
   },
   "file_extension": ".py",
   "mimetype": "text/x-python",
   "name": "python",
   "nbconvert_exporter": "python",
   "pygments_lexer": "ipython3",
   "version": "3.6.5"
  }
 },
 "nbformat": 4,
 "nbformat_minor": 1
}
