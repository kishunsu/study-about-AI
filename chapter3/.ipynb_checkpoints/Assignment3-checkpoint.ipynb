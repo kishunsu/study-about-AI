{
 "cells": [
  {
   "cell_type": "markdown",
   "metadata": {},
   "source": [
    "<H2>課題3: クラスタリング</H2>\n",
    "<p>本課題で使用するデータは総務省の人口データ(http://www.stat.go.jp/data/jinsui/2016np/index.html)　を加工したものです。</p>\n",
    "<p>0歳から100歳（以上）までの各年齢における総人口数、及び男女の人数が記載されています。</p>\n",
    "<p>3章で学んだ内容を踏まえ、各セルに'#コメント'の内容を実行するコードを記入してください。</p>"
   ]
  },
  {
   "cell_type": "markdown",
   "metadata": {},
   "source": [
    "<H2>1. 必要なモジュールの読み込み"
   ]
  },
  {
   "cell_type": "code",
   "execution_count": 2,
   "metadata": {},
   "outputs": [],
   "source": [
    "%matplotlib inline\n",
    "from __future__ import print_function\n",
    "\n",
    "try:\n",
    "    xrange\n",
    "except NameError:\n",
    "    xrange = range\n",
    "\n",
    "import numpy as np\n",
    "import matplotlib\n",
    "import matplotlib.pyplot as plt\n",
    "import pandas as pd\n",
    "from sklearn.cluster import KMeans, MiniBatchKMeans\n",
    "from sklearn.metrics import silhouette_samples, silhouette_score\n",
    "from sklearn.preprocessing import StandardScaler, MaxAbsScaler"
   ]
  },
  {
   "cell_type": "markdown",
   "metadata": {},
   "source": [
    "<H2>2. データの読み込み</H2>\n",
    "<p>CSVファイル\"japan_number.csv\"を読み込み、内容を確認します。</p>"
   ]
  },
  {
   "cell_type": "code",
   "execution_count": 3,
   "metadata": {},
   "outputs": [],
   "source": [
    "# データ読み込み\n",
    "dataset=pd.read_csv('japan_number.csv')"
   ]
  },
  {
   "cell_type": "code",
   "execution_count": 4,
   "metadata": {
    "scrolled": true
   },
   "outputs": [
    {
     "data": {
      "text/html": [
       "<div>\n",
       "<style scoped>\n",
       "    .dataframe tbody tr th:only-of-type {\n",
       "        vertical-align: middle;\n",
       "    }\n",
       "\n",
       "    .dataframe tbody tr th {\n",
       "        vertical-align: top;\n",
       "    }\n",
       "\n",
       "    .dataframe thead th {\n",
       "        text-align: right;\n",
       "    }\n",
       "</style>\n",
       "<table border=\"1\" class=\"dataframe\">\n",
       "  <thead>\n",
       "    <tr style=\"text-align: right;\">\n",
       "      <th></th>\n",
       "      <th>Yearsold</th>\n",
       "      <th>Total</th>\n",
       "      <th>Man</th>\n",
       "      <th>Woman</th>\n",
       "    </tr>\n",
       "  </thead>\n",
       "  <tbody>\n",
       "    <tr>\n",
       "      <th>0</th>\n",
       "      <td>0</td>\n",
       "      <td>957</td>\n",
       "      <td>489</td>\n",
       "      <td>469</td>\n",
       "    </tr>\n",
       "    <tr>\n",
       "      <th>1</th>\n",
       "      <td>1</td>\n",
       "      <td>970</td>\n",
       "      <td>497</td>\n",
       "      <td>474</td>\n",
       "    </tr>\n",
       "    <tr>\n",
       "      <th>2</th>\n",
       "      <td>2</td>\n",
       "      <td>1007</td>\n",
       "      <td>514</td>\n",
       "      <td>492</td>\n",
       "    </tr>\n",
       "    <tr>\n",
       "      <th>3</th>\n",
       "      <td>3</td>\n",
       "      <td>1013</td>\n",
       "      <td>518</td>\n",
       "      <td>495</td>\n",
       "    </tr>\n",
       "    <tr>\n",
       "      <th>4</th>\n",
       "      <td>4</td>\n",
       "      <td>1041</td>\n",
       "      <td>533</td>\n",
       "      <td>507</td>\n",
       "    </tr>\n",
       "  </tbody>\n",
       "</table>\n",
       "</div>"
      ],
      "text/plain": [
       "   Yearsold  Total  Man  Woman\n",
       "0         0    957  489    469\n",
       "1         1    970  497    474\n",
       "2         2   1007  514    492\n",
       "3         3   1013  518    495\n",
       "4         4   1041  533    507"
      ]
     },
     "execution_count": 4,
     "metadata": {},
     "output_type": "execute_result"
    }
   ],
   "source": [
    "# データを最初の5行だけ表示\n",
    "dataset.head()"
   ]
  },
  {
   "cell_type": "code",
   "execution_count": 6,
   "metadata": {},
   "outputs": [],
   "source": [
    "# 年齢データはカテゴリ変数であり不要なため、列'Yearsold'を削除\n",
    "cols=['Total','Man','Woman']"
   ]
  },
  {
   "cell_type": "code",
   "execution_count": 7,
   "metadata": {
    "scrolled": false
   },
   "outputs": [
    {
     "data": {
      "text/html": [
       "<div>\n",
       "<style scoped>\n",
       "    .dataframe tbody tr th:only-of-type {\n",
       "        vertical-align: middle;\n",
       "    }\n",
       "\n",
       "    .dataframe tbody tr th {\n",
       "        vertical-align: top;\n",
       "    }\n",
       "\n",
       "    .dataframe thead th {\n",
       "        text-align: right;\n",
       "    }\n",
       "</style>\n",
       "<table border=\"1\" class=\"dataframe\">\n",
       "  <thead>\n",
       "    <tr style=\"text-align: right;\">\n",
       "      <th></th>\n",
       "      <th>Total</th>\n",
       "      <th>Man</th>\n",
       "      <th>Woman</th>\n",
       "    </tr>\n",
       "  </thead>\n",
       "  <tbody>\n",
       "    <tr>\n",
       "      <th>0</th>\n",
       "      <td>957</td>\n",
       "      <td>489</td>\n",
       "      <td>469</td>\n",
       "    </tr>\n",
       "    <tr>\n",
       "      <th>1</th>\n",
       "      <td>970</td>\n",
       "      <td>497</td>\n",
       "      <td>474</td>\n",
       "    </tr>\n",
       "    <tr>\n",
       "      <th>2</th>\n",
       "      <td>1007</td>\n",
       "      <td>514</td>\n",
       "      <td>492</td>\n",
       "    </tr>\n",
       "    <tr>\n",
       "      <th>3</th>\n",
       "      <td>1013</td>\n",
       "      <td>518</td>\n",
       "      <td>495</td>\n",
       "    </tr>\n",
       "    <tr>\n",
       "      <th>4</th>\n",
       "      <td>1041</td>\n",
       "      <td>533</td>\n",
       "      <td>507</td>\n",
       "    </tr>\n",
       "  </tbody>\n",
       "</table>\n",
       "</div>"
      ],
      "text/plain": [
       "   Total  Man  Woman\n",
       "0    957  489    469\n",
       "1    970  497    474\n",
       "2   1007  514    492\n",
       "3   1013  518    495\n",
       "4   1041  533    507"
      ]
     },
     "execution_count": 7,
     "metadata": {},
     "output_type": "execute_result"
    }
   ],
   "source": [
    "# 最初の5行を表示して列が削除されたことを確認\n",
    "dataset_cols=dataset[cols]\n",
    "dataset_cols.head()"
   ]
  },
  {
   "cell_type": "markdown",
   "metadata": {},
   "source": [
    "<H2>3. データの正規化</H2>\n",
    "<p>クラスタリングはユークリッド距離に基づいて行われるため、スケールは重要です。</p>"
   ]
  },
  {
   "cell_type": "code",
   "execution_count": 9,
   "metadata": {},
   "outputs": [],
   "source": [
    "# 正規化を実施\n",
    "scaler = MaxAbsScaler()\n",
    "dataset_cols_scaled=scaler.fit_transform(dataset_cols)"
   ]
  },
  {
   "cell_type": "code",
   "execution_count": 45,
   "metadata": {},
   "outputs": [
    {
     "name": "stdout",
     "output_type": "stream",
     "text": [
      "[[0.43818681 0.46175637 0.41688889]\n",
      " [0.44413919 0.46931067 0.42133333]\n",
      " [0.46108059 0.48536355 0.43733333]\n",
      " [0.46382784 0.4891407  0.44      ]\n",
      " [0.47664835 0.503305   0.45066667]\n",
      " [0.47802198 0.50519358 0.45244444]\n",
      " [0.48305861 0.50991501 0.45688889]\n",
      " [0.49221612 0.51935788 0.46666667]\n",
      " [0.48855311 0.51652502 0.46222222]\n",
      " [0.48489011 0.51180359 0.45955556]\n",
      " [0.48580586 0.51274788 0.46044444]\n",
      " [0.50320513 0.53068933 0.47733333]\n",
      " [0.51236264 0.54107649 0.48444444]\n",
      " [0.52747253 0.55807365 0.49955556]\n",
      " [0.53525641 0.56562795 0.50577778]\n",
      " [0.54761905 0.58073654 0.51555556]\n",
      " [0.54807692 0.58073654 0.51733333]\n",
      " [0.55631868 0.59017941 0.52444444]\n",
      " [0.55265568 0.58356941 0.52266667]\n",
      " [0.54716117 0.57790368 0.51733333]\n",
      " [0.55357143 0.58356941 0.52533333]\n",
      " [0.54990842 0.57979226 0.52177778]\n",
      " [0.53846154 0.56657224 0.512     ]\n",
      " [0.54578755 0.57412653 0.51911111]\n",
      " [0.54487179 0.57223796 0.51911111]\n",
      " [0.55540293 0.58168083 0.52977778]\n",
      " [0.56913919 0.59584514 0.54311111]\n",
      " [0.58836996 0.61661945 0.56177778]\n",
      " [0.60531136 0.63361662 0.57866667]\n",
      " [0.61675824 0.64589235 0.58933333]\n",
      " [0.64194139 0.66949953 0.616     ]\n",
      " [0.66346154 0.69121813 0.63733333]\n",
      " [0.67399267 0.70254958 0.64711111]\n",
      " [0.6753663  0.70349386 0.64977778]\n",
      " [0.68360806 0.71293673 0.656     ]\n",
      " [0.71336996 0.74315392 0.68533333]\n",
      " [0.73214286 0.76392823 0.70222222]\n",
      " [0.76144689 0.79320113 0.73066667]\n",
      " [0.78159341 0.81491974 0.75022222]\n",
      " [0.81913919 0.85457979 0.78666667]\n",
      " [0.85531136 0.89140699 0.82133333]\n",
      " [0.9029304  0.94239849 0.86577778]\n",
      " [0.91849817 0.95467422 0.88444444]\n",
      " [0.90155678 0.93956563 0.86666667]\n",
      " [0.87774725 0.9121813  0.84533333]\n",
      " [0.85119048 0.88479698 0.81955556]\n",
      " [0.83836996 0.86968839 0.80888889]\n",
      " [0.81959707 0.84985836 0.79111111]\n",
      " [0.81822344 0.84796978 0.79022222]\n",
      " [0.63919414 0.66005666 0.61955556]\n",
      " [0.78891941 0.81586402 0.76444444]\n",
      " [0.73901099 0.76392823 0.71555556]\n",
      " [0.72069597 0.74315392 0.69866667]\n",
      " [0.69642857 0.71765817 0.67644444]\n",
      " [0.68589744 0.70632672 0.66666667]\n",
      " [0.69047619 0.70915958 0.67288889]\n",
      " [0.7032967  0.72143532 0.68622222]\n",
      " [0.68406593 0.69971671 0.66933333]\n",
      " [0.66483516 0.6789424  0.65155556]\n",
      " [0.69826007 0.71199245 0.68533333]\n",
      " [0.72161172 0.73559962 0.70844444]\n",
      " [0.72069597 0.73276676 0.70933333]\n",
      " [0.76556777 0.77431539 0.75644444]\n",
      " [0.80906593 0.81586402 0.80177778]\n",
      " [0.8543956  0.86024551 0.84888889]\n",
      " [0.91529304 0.91784703 0.91288889]\n",
      " [1.         1.         1.        ]\n",
      " [0.98717949 0.98300283 0.99111111]\n",
      " [0.93315018 0.92823418 0.93777778]\n",
      " [0.58012821 0.57129367 0.58844444]\n",
      " [0.61904762 0.60151086 0.63555556]\n",
      " [0.74862637 0.72332389 0.77244444]\n",
      " [0.71932234 0.69121813 0.74577778]\n",
      " [0.73260073 0.69877243 0.76444444]\n",
      " [0.70421245 0.66761095 0.73866667]\n",
      " [0.63186813 0.59395656 0.66844444]\n",
      " [0.54212454 0.50424929 0.57777778]\n",
      " [0.56868132 0.52030217 0.61422222]\n",
      " [0.57188645 0.51652502 0.624     ]\n",
      " [0.55906593 0.49763928 0.61777778]\n",
      " [0.51923077 0.45136922 0.58311111]\n",
      " [0.4757326  0.40415486 0.54311111]\n",
      " [0.45833333 0.37865911 0.53422222]\n",
      " [0.4271978  0.34466478 0.50488889]\n",
      " [0.39148352 0.30500472 0.47288889]\n",
      " [0.34844322 0.2625118  0.42933333]\n",
      " [0.31822344 0.22946176 0.40177778]\n",
      " [0.28571429 0.19830028 0.368     ]\n",
      " [0.25274725 0.1680831  0.33244444]\n",
      " [0.2220696  0.1388102  0.29955556]\n",
      " [0.18452381 0.10764873 0.25688889]\n",
      " [0.1474359  0.07932011 0.21155556]\n",
      " [0.12042125 0.05760151 0.17955556]\n",
      " [0.09294872 0.04060434 0.14222222]\n",
      " [0.0728022  0.03021719 0.11288889]\n",
      " [0.05998168 0.02360718 0.09422222]\n",
      " [0.03754579 0.01416431 0.05955556]\n",
      " [0.02930403 0.01038716 0.04711111]\n",
      " [0.02152015 0.0075543  0.03555556]\n",
      " [0.01602564 0.00472144 0.02577778]\n",
      " [0.02838828 0.0075543  0.04711111]]\n",
      "(101, 3)\n"
     ]
    }
   ],
   "source": [
    "# 正規化後のデータを確認\n",
    "print(dataset_cols_scaled)\n",
    "print(dataset_cols_scaled.shape)"
   ]
  },
  {
   "cell_type": "markdown",
   "metadata": {},
   "source": [
    "<H2> 4. データの可視化"
   ]
  },
  {
   "cell_type": "code",
   "execution_count": 53,
   "metadata": {
    "scrolled": false
   },
   "outputs": [
    {
     "data": {
      "text/plain": [
       "Text(0,0.5,'woman')"
      ]
     },
     "execution_count": 53,
     "metadata": {},
     "output_type": "execute_result"
    },
    {
     "data": {
      "image/png": "[encoded data removed]",
      "text/plain": [
       "<Figure size 432x288 with 1 Axes>"
      ]
     },
     "metadata": {
      "needs_background": "light"
     },
     "output_type": "display_data"
    }
   ],
   "source": [
    "# 正規化したデータを散布図にPlotし、分布を確認します。\n",
    "fig = plt.figure()\n",
    "ax = fig.add_subplot(1, 1, 1)\n",
    "ax.scatter(dataset_cols_scaled[:, 1], dataset_cols_scaled[:, 2])\n",
    "ax.set_title('scatter plot')\n",
    "ax.set_xlabel('man')\n",
    "ax.set_ylabel('woman')"
   ]
  },
  {
   "cell_type": "markdown",
   "metadata": {},
   "source": [
    "<H2> 5. クラスター数の決定</H2>\n",
    "<p>ここではElbow Methodとシルエットプロットを用いてクラスター数を決定してみましょう。</p>"
   ]
  },
  {
   "cell_type": "markdown",
   "metadata": {},
   "source": [
    "<h3>Elbow Method"
   ]
  },
  {
   "cell_type": "code",
   "execution_count": 21,
   "metadata": {},
   "outputs": [],
   "source": [
    "# 最大クラスター数を10としてWCSS値を取得\n",
    "max_cluster=10\n",
    "clusters_=range(1,max_cluster)\n",
    "intra_sum_of_square_list=[]\n",
    "for k in clusters_:\n",
    "    km = KMeans(n_clusters=k, init='k-means++', n_init=10, max_iter=300)\n",
    "    km.fit(dataset_cols_scaled)\n",
    "    intra_sum_of_square_list.append(km.inertia_)"
   ]
  },
  {
   "cell_type": "code",
   "execution_count": 47,
   "metadata": {},
   "outputs": [
    {
     "data": {
      "text/plain": [
       "[<matplotlib.lines.Line2D at 0x7f3a6e6fdd68>]"
      ]
     },
     "execution_count": 47,
     "metadata": {},
     "output_type": "execute_result"
    },
    {
     "data": {
      "image/png": "[encoded data removed]",
      "text/plain": [
       "<Figure size 432x288 with 1 Axes>"
      ]
     },
     "metadata": {
      "needs_background": "light"
     },
     "output_type": "display_data"
    }
   ],
   "source": [
    "# 上記結果をplotにて可視化\n",
    "fig = plt.figure()\n",
    "ax = fig.add_subplot(1, 1, 1)\n",
    "ax.set_title('Elbow Method')\n",
    "ax.set_xlabel('Number of Clutser')\n",
    "ax.set_ylabel('Intra Sum of distances(WCSS)')\n",
    "plt.plot(clusters_, intra_sum_of_square_list)"
   ]
  },
  {
   "cell_type": "markdown",
   "metadata": {},
   "source": [
    "<h3>シルエットメソッド"
   ]
  },
  {
   "cell_type": "code",
   "execution_count": 48,
   "metadata": {},
   "outputs": [],
   "source": [
    "# K-means法でクラスタリングの実施\n",
    "n_clusters=4\n",
    "km=KMeans(n_clusters=n_clusters,init='k-means++',n_init=10,max_iter=300)\n",
    "km.fit(dataset_cols_scaled)\n",
    "cluster_labels=km.predict(dataset_cols_scaled)"
   ]
  },
  {
   "cell_type": "code",
   "execution_count": 49,
   "metadata": {},
   "outputs": [],
   "source": [
    "# シルエットスコアの平均を算出\n",
    "silhouette_avg = silhouette_score(dataset_cols_scaled, cluster_labels)"
   ]
  },
  {
   "cell_type": "code",
   "execution_count": 50,
   "metadata": {},
   "outputs": [],
   "source": [
    "# それぞれのデータ点のシルエットスコアを算出する\n",
    "each_silhouette_score = silhouette_samples(dataset_cols_scaled, cluster_labels,\n",
    "                                           metric='euclidean')"
   ]
  },
  {
   "cell_type": "code",
   "execution_count": 51,
   "metadata": {},
   "outputs": [
    {
     "data": {
      "text/plain": [
       "[<matplotlib.axis.XTick at 0x7f3a6e6e59b0>,\n",
       " <matplotlib.axis.XTick at 0x7f3a6e6e52e8>,\n",
       " <matplotlib.axis.XTick at 0x7f3a6e6e51d0>,\n",
       " <matplotlib.axis.XTick at 0x7f3a6e6945f8>,\n",
       " <matplotlib.axis.XTick at 0x7f3a6e694978>,\n",
       " <matplotlib.axis.XTick at 0x7f3a6e694e48>,\n",
       " <matplotlib.axis.XTick at 0x7f3a6e69d390>]"
      ]
     },
     "execution_count": 51,
     "metadata": {},
     "output_type": "execute_result"
    },
    {
     "data": {
      "image/png": "[encoded data removed]",
      "text/plain": [
       "<Figure size 432x288 with 1 Axes>"
      ]
     },
     "metadata": {
      "needs_background": "light"
     },
     "output_type": "display_data"
    }
   ],
   "source": [
    "#  シルエットプロットを作図\n",
    "colorlist = ['tomato', 'antiquewhite', 'blueviolet', 'cornflowerblue',\n",
    "             'darkgreen', 'seashell', 'skyblue', 'mediumseagreen']\n",
    "fig = plt.figure()\n",
    "ax = fig.add_subplot(1, 1, 1)\n",
    "y_lower = 10\n",
    "for i in range(n_clusters):\n",
    "        # Aggregate the silhouette scores for samples belonging to\n",
    "        # cluster i, and sort them\n",
    "        ith_cluster_silhouette_values = \\\n",
    "         each_silhouette_score[cluster_labels == i]\n",
    "        ith_cluster_silhouette_values.sort()\n",
    "        size_cluster_i = ith_cluster_silhouette_values.shape[0]\n",
    "        y_upper = y_lower + size_cluster_i\n",
    "\n",
    "        color = colorlist[i]\n",
    "        ax.fill_betweenx(np.arange(y_lower, y_upper), 0,\n",
    "                         ith_cluster_silhouette_values,\n",
    "                         facecolor=color, edgecolor=color, alpha=0.3)\n",
    "\n",
    "        # Label the silhouette plots with their cluster numbers at the middle\n",
    "        ax.text(-0.05, y_lower + 0.5 * size_cluster_i, str(i))\n",
    "\n",
    "        # Compute the new y_lower for next plot\n",
    "        y_lower = y_upper + 10  # 10 for the 0 samples\n",
    "\n",
    "ax.set_title('Silhouette plot')\n",
    "ax.set_xlabel('Silhouette score')\n",
    "ax.set_ylabel('Cluster label')\n",
    "\n",
    "# The vertical line for average silhouette score of all the values\n",
    "ax.axvline(x=silhouette_avg, color='red', linestyle='--')\n",
    "\n",
    "ax.set_yticks([])  # Clear the yaxis labels / ticks\n",
    "ax.set_xticks([-0.2, 0, 0.2, 0.4, 0.6, 0.8, 1])\n"
   ]
  },
  {
   "cell_type": "markdown",
   "metadata": {},
   "source": [
    "<H2>6.  結果の確認"
   ]
  },
  {
   "cell_type": "markdown",
   "metadata": {},
   "source": [
    "正規化後に作成したPlotをクラスターごとに色分けし、どのようにクラスターが分かれているのか確認します。"
   ]
  },
  {
   "cell_type": "code",
   "execution_count": 52,
   "metadata": {},
   "outputs": [
    {
     "data": {
      "text/plain": [
       "<matplotlib.legend.Legend at 0x7f3a6e656e10>"
      ]
     },
     "execution_count": 52,
     "metadata": {},
     "output_type": "execute_result"
    },
    {
     "data": {
      "image/png": "[encoded data removed]",
      "text/plain": [
       "<Figure size 432x288 with 1 Axes>"
      ]
     },
     "metadata": {
      "needs_background": "light"
     },
     "output_type": "display_data"
    }
   ],
   "source": [
    "#　グラフの描画の初期化\n",
    "\n",
    "fig = plt.figure()\n",
    "ax = fig.add_subplot(1, 1, 1)\n",
    "#　クラスターの番号をユニークにします\n",
    "cluster_ids = list(set(cluster_labels))\n",
    "\n",
    "\n",
    "#　クラスターごとに色を変えながら、散布図に出力していきます\n",
    "for k in range(len(cluster_ids)):\n",
    "    cluster_id = cluster_ids[k]\n",
    "    label_ = 'clutser = %d' % cluster_id\n",
    "    data_by_cluster = dataset_cols_scaled[cluster_labels == cluster_id]\n",
    "    ax.scatter( data_by_cluster[:, 1],data_by_cluster[:, 2],\n",
    "               c=colorlist[k], label=label_)\n",
    "    \n",
    "ax.set_title('Clustering')\n",
    "ax.set_xlabel('man')\n",
    "ax.set_ylabel('woman')\n",
    "ax.legend(loc='lower right')"
   ]
  },
  {
   "cell_type": "code",
   "execution_count": 54,
   "metadata": {},
   "outputs": [
    {
     "data": {
      "text/html": [
       "<div>\n",
       "<style scoped>\n",
       "    .dataframe tbody tr th:only-of-type {\n",
       "        vertical-align: middle;\n",
       "    }\n",
       "\n",
       "    .dataframe tbody tr th {\n",
       "        vertical-align: top;\n",
       "    }\n",
       "\n",
       "    .dataframe thead th {\n",
       "        text-align: right;\n",
       "    }\n",
       "</style>\n",
       "<table border=\"1\" class=\"dataframe\">\n",
       "  <thead>\n",
       "    <tr style=\"text-align: right;\">\n",
       "      <th></th>\n",
       "      <th>Total</th>\n",
       "      <th>Man</th>\n",
       "      <th>Woman</th>\n",
       "    </tr>\n",
       "  </thead>\n",
       "  <tbody>\n",
       "    <tr>\n",
       "      <th>0</th>\n",
       "      <td>0.881353</td>\n",
       "      <td>0.903270</td>\n",
       "      <td>0.860778</td>\n",
       "    </tr>\n",
       "    <tr>\n",
       "      <th>1</th>\n",
       "      <td>0.125977</td>\n",
       "      <td>0.074536</td>\n",
       "      <td>0.174281</td>\n",
       "    </tr>\n",
       "    <tr>\n",
       "      <th>2</th>\n",
       "      <td>0.512992</td>\n",
       "      <td>0.516336</td>\n",
       "      <td>0.509733</td>\n",
       "    </tr>\n",
       "    <tr>\n",
       "      <th>3</th>\n",
       "      <td>0.700611</td>\n",
       "      <td>0.712937</td>\n",
       "      <td>0.689007</td>\n",
       "    </tr>\n",
       "  </tbody>\n",
       "</table>\n",
       "</div>"
      ],
      "text/plain": [
       "      Total       Man     Woman\n",
       "0  0.881353  0.903270  0.860778\n",
       "1  0.125977  0.074536  0.174281\n",
       "2  0.512992  0.516336  0.509733\n",
       "3  0.700611  0.712937  0.689007"
      ]
     },
     "execution_count": 54,
     "metadata": {},
     "output_type": "execute_result"
    },
    {
     "data": {
      "image/png": "[encoded data removed]",
      "text/plain": [
       "<Figure size 432x288 with 1 Axes>"
      ]
     },
     "metadata": {
      "needs_background": "light"
     },
     "output_type": "display_data"
    }
   ],
   "source": [
    "km_centers = pd.DataFrame(km.cluster_centers_, columns=cols)\n",
    "km_centers.plot.bar(ylim=[0, 2], fontsize=10)\n",
    "km_centers"
   ]
  }
 ],
 "metadata": {
  "anaconda-cloud": {},
  "kernelspec": {
   "display_name": "Python 3",
   "language": "python",
   "name": "python3"
  },
  "language_info": {
   "codemirror_mode": {
    "name": "ipython",
    "version": 3
   },
   "file_extension": ".py",
   "mimetype": "text/x-python",
   "name": "python",
   "nbconvert_exporter": "python",
   "pygments_lexer": "ipython3",
   "version": "3.6.5"
  }
 },
 "nbformat": 4,
 "nbformat_minor": 1
}
